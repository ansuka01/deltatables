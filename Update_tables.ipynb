{
 "cells": [
  {
   "cell_type": "code",
   "execution_count": 1,
   "id": "d80beba6-2ea4-467c-84ce-20f322022609",
   "metadata": {},
   "outputs": [
    {
     "name": "stdout",
     "output_type": "stream",
     "text": [
      ":: loading settings :: url = jar:file:/usr/local/lib/python3.10/dist-packages/pyspark/jars/ivy-2.5.1.jar!/org/apache/ivy/core/settings/ivysettings.xml\n"
     ]
    },
    {
     "name": "stderr",
     "output_type": "stream",
     "text": [
      "Ivy Default Cache set to: /home/jupyter/.ivy2/cache\n",
      "The jars for the packages stored in: /home/jupyter/.ivy2/jars\n",
      "io.delta#delta-spark_2.12 added as a dependency\n",
      ":: resolving dependencies :: org.apache.spark#spark-submit-parent-e38110d4-6be1-4bc4-8127-706ce9fcb9a7;1.0\n",
      "\tconfs: [default]\n",
      "\tfound io.delta#delta-spark_2.12;3.1.0 in central\n",
      "\tfound io.delta#delta-storage;3.1.0 in central\n",
      "\tfound org.antlr#antlr4-runtime;4.9.3 in central\n",
      "downloading https://repo1.maven.org/maven2/io/delta/delta-spark_2.12/3.1.0/delta-spark_2.12-3.1.0.jar ...\n",
      "\t[SUCCESSFUL ] io.delta#delta-spark_2.12;3.1.0!delta-spark_2.12.jar (2903ms)\n",
      "downloading https://repo1.maven.org/maven2/io/delta/delta-storage/3.1.0/delta-storage-3.1.0.jar ...\n",
      "\t[SUCCESSFUL ] io.delta#delta-storage;3.1.0!delta-storage.jar (125ms)\n",
      "downloading https://repo1.maven.org/maven2/org/antlr/antlr4-runtime/4.9.3/antlr4-runtime-4.9.3.jar ...\n",
      "\t[SUCCESSFUL ] org.antlr#antlr4-runtime;4.9.3!antlr4-runtime.jar (159ms)\n",
      ":: resolution report :: resolve 3681ms :: artifacts dl 3294ms\n",
      "\t:: modules in use:\n",
      "\tio.delta#delta-spark_2.12;3.1.0 from central in [default]\n",
      "\tio.delta#delta-storage;3.1.0 from central in [default]\n",
      "\torg.antlr#antlr4-runtime;4.9.3 from central in [default]\n",
      "\t---------------------------------------------------------------------\n",
      "\t|                  |            modules            ||   artifacts   |\n",
      "\t|       conf       | number| search|dwnlded|evicted|| number|dwnlded|\n",
      "\t---------------------------------------------------------------------\n",
      "\t|      default     |   3   |   3   |   3   |   0   ||   3   |   3   |\n",
      "\t---------------------------------------------------------------------\n",
      ":: retrieving :: org.apache.spark#spark-submit-parent-e38110d4-6be1-4bc4-8127-706ce9fcb9a7\n",
      "\tconfs: [default]\n",
      "\t3 artifacts copied, 0 already retrieved (5727kB/353ms)\n",
      "24/03/07 10:07:01 WARN NativeCodeLoader: Unable to load native-hadoop library for your platform... using builtin-java classes where applicable\n",
      "Setting default log level to \"WARN\".\n",
      "To adjust logging level use sc.setLogLevel(newLevel). For SparkR, use setLogLevel(newLevel).\n"
     ]
    }
   ],
   "source": [
    "import pyspark\n",
    "from delta import *\n",
    "\n",
    "builder = pyspark.sql.SparkSession.builder.appName(\"MyApp\") \\\n",
    "    .config(\"spark.sql.extensions\", \"io.delta.sql.DeltaSparkSessionExtension\") \\\n",
    "    .config(\"spark.sql.catalog.spark_catalog\", \"org.apache.spark.sql.delta.catalog.DeltaCatalog\")\n",
    "\n",
    "spark = configure_spark_with_delta_pip(builder).getOrCreate()"
   ]
  },
  {
   "cell_type": "code",
   "execution_count": 2,
   "id": "69e2de7f-ba1f-4d19-b1a4-c087b5dca0f8",
   "metadata": {},
   "outputs": [
    {
     "name": "stdout",
     "output_type": "stream",
     "text": [
      "+----------+\n",
      "|    Tyyppi|\n",
      "+----------+\n",
      "|punaviinit|\n",
      "|punaviinit|\n",
      "|punaviinit|\n",
      "|punaviinit|\n",
      "|punaviinit|\n",
      "|punaviinit|\n",
      "|punaviinit|\n",
      "|punaviinit|\n",
      "|punaviinit|\n",
      "|punaviinit|\n",
      "|punaviinit|\n",
      "|punaviinit|\n",
      "|punaviinit|\n",
      "|punaviinit|\n",
      "|punaviinit|\n",
      "|punaviinit|\n",
      "|punaviinit|\n",
      "|punaviinit|\n",
      "|punaviinit|\n",
      "|punaviinit|\n",
      "+----------+\n",
      "only showing top 20 rows\n",
      "\n"
     ]
    }
   ],
   "source": [
    "df = spark.read.csv(\"alkon-hinnasto-tekstitiedostona_uusi.csv\", header=True, inferSchema=True, sep=\";\")\n",
    "\n",
    "df.select('Tyyppi').show()\n"
   ]
  },
  {
   "cell_type": "code",
   "execution_count": 3,
   "id": "bbe58405-4498-464b-ab17-18b57f8649a6",
   "metadata": {},
   "outputs": [],
   "source": [
    "from pyspark.sql.functions import col\n",
    "\n",
    "# Castataan tietotyypit\n",
    "df = df.withColumn(\"Alkoholi-%\", col(\"Alkoholi-%\").cast(\"double\"))\n",
    "df = df.withColumn(\"Hapot g/l\", col(\"Hapot g/l\").cast(\"double\"))\n",
    "df = df.withColumn(\"Sokeri g/l\", col(\"Sokeri g/l\").cast(\"int\"))\n",
    "df = df.withColumn(\"Kantavierrep-%\", col(\"Kantavierrep-%\").cast(\"double\"))\n",
    "df = df.withColumn(\"Energia kcal/100 ml\", col(\"Energia kcal/100 ml\").cast(\"double\"))\n",
    "\n",
    "#Uudelleennimetään muutama huonosti nimetty sarake\n",
    "df = df.withColumnRenamed(\"Hinnastojärjestyskoodi\", \"Hinnastojarjestyskoodi\")\n",
    "df = df.withColumnRenamed(\"Alkoholi-%\", \"Alkoholi_percent\")\n",
    "df = df.withColumnRenamed(\"Hapot g/l\", \"Hapot_g_l\")\n",
    "df = df.withColumnRenamed(\"Sokeri g/l\", \"Sokeri_g_l\")\n",
    "df = df.withColumnRenamed(\"Kantavierrep-%\", \"Kantavierrep_percent\")\n",
    "df = df.withColumnRenamed(\"Väri EBC\", \"Vari_EBC\")\n",
    "df = df.withColumnRenamed(\"Katkerot EBU\", \"Katkerot_EBU\")\n",
    "df = df.withColumnRenamed(\"Energia kcal/100 ml\", \"Energia_kcal_100_ml\")"
   ]
  },
  {
   "cell_type": "code",
   "execution_count": 4,
   "id": "f915ae07-fec5-46d7-be70-c43929bd5e2d",
   "metadata": {},
   "outputs": [
    {
     "name": "stdout",
     "output_type": "stream",
     "text": [
      "root\n",
      " |-- Numero: string (nullable = true)\n",
      " |-- Nimi: string (nullable = true)\n",
      " |-- Valmistaja: string (nullable = true)\n",
      " |-- Pullokoko: string (nullable = true)\n",
      " |-- Hinta: string (nullable = true)\n",
      " |-- Litrahinta: string (nullable = true)\n",
      " |-- Uutuus: string (nullable = true)\n",
      " |-- Hinnastojarjestyskoodi: string (nullable = true)\n",
      " |-- Tyyppi: string (nullable = true)\n",
      " |-- Alatyyppi: string (nullable = true)\n",
      " |-- Erityisryhmä: string (nullable = true)\n",
      " |-- Oluttyyppi: string (nullable = true)\n",
      " |-- Valmistusmaa: string (nullable = true)\n",
      " |-- Alue: string (nullable = true)\n",
      " |-- Vuosikerta: string (nullable = true)\n",
      " |-- Etikettimerkintöjä: string (nullable = true)\n",
      " |-- Huomautus: string (nullable = true)\n",
      " |-- Rypäleet: string (nullable = true)\n",
      " |-- Luonnehdinta: string (nullable = true)\n",
      " |-- Pakkaustyyppi: string (nullable = true)\n",
      " |-- Suljentatyyppi: string (nullable = true)\n",
      " |-- Alkoholi_percent: double (nullable = true)\n",
      " |-- Hapot_g_l: double (nullable = true)\n",
      " |-- Sokeri_g_l: integer (nullable = true)\n",
      " |-- Kantavierrep_percent: double (nullable = true)\n",
      " |-- Vari_EBC: double (nullable = true)\n",
      " |-- Katkerot_EBU: double (nullable = true)\n",
      " |-- Energia_kcal_100_ml: double (nullable = true)\n",
      " |-- Valikoima: string (nullable = true)\n",
      " |-- EAN: double (nullable = true)\n",
      "\n"
     ]
    }
   ],
   "source": [
    "#Testataan, että skeema muuttui\n",
    "df.printSchema()"
   ]
  },
  {
   "cell_type": "code",
   "execution_count": 5,
   "id": "1e233eef-7302-420d-b1fa-4402d6a0e039",
   "metadata": {},
   "outputs": [
    {
     "name": "stderr",
     "output_type": "stream",
     "text": [
      "24/03/07 10:07:24 WARN SparkStringUtils: Truncated the string representation of a plan since it was too large. This behavior can be adjusted by setting 'spark.sql.debug.maxToStringFields'.\n",
      "                                                                                \r"
     ]
    }
   ],
   "source": [
    " #Filteröidään punaiset ja valkoiset viinit\n",
    "punaviinit_df = df.filter(df[\"Tyyppi\"] == \"punaviinit\")\n",
    "valkoviinit_df = df.filter(df[\"Tyyppi\"] == \"valkoviinit\")\n",
    "\n",
    "# Kirjoitetaan punaviinit ja valkoviinit omiin delta-tauluihin. Merge schema siksi, että mikäli tulee uusia sarakkeita tms, niin delta hoitaa sen.\n",
    "punaviinit_df.write.format(\"delta\").mode(\"overwrite\").option(\"mergeSchema\", \"true\").save(\"data/punaviinit_table\")\n",
    "valkoviinit_df.write.format(\"delta\").mode(\"overwrite\").option(\"mergeSchema\", \"true\").save(\"data/valkoviinit_table\")\n"
   ]
  },
  {
   "cell_type": "code",
   "execution_count": 6,
   "id": "f3268719-17e3-4fd6-8d88-55a95a7e061c",
   "metadata": {},
   "outputs": [
    {
     "data": {
      "text/plain": [
       "3115"
      ]
     },
     "execution_count": 6,
     "metadata": {},
     "output_type": "execute_result"
    }
   ],
   "source": [
    "#Katsotaan, että taulusta löytyy tavaraa\n",
    "\n",
    "df = spark.read.format(\"delta\").load(\"data/punaviinit_table\")\n",
    "df.count()\n",
    "\n"
   ]
  },
  {
   "cell_type": "code",
   "execution_count": 7,
   "id": "97eddc92-a68d-4c20-90e1-acf13cf01e3f",
   "metadata": {},
   "outputs": [
    {
     "data": {
      "text/plain": [
       "2202"
      ]
     },
     "execution_count": 7,
     "metadata": {},
     "output_type": "execute_result"
    }
   ],
   "source": [
    "#Katsotaan, että taulusta löytyy tavaraa\n",
    "df = spark.read.format(\"delta\").load(\"data/valkoviinit_table\")\n",
    "df.count()"
   ]
  },
  {
   "attachments": {},
   "cell_type": "markdown",
   "id": "d0db1014-2ca1-4daf-8708-ef4f093cfbe4",
   "metadata": {},
   "source": []
  }
 ],
 "metadata": {
  "kernelspec": {
   "display_name": "Python 3 (ipykernel)",
   "language": "python",
   "name": "python3"
  },
  "language_info": {
   "codemirror_mode": {
    "name": "ipython",
    "version": 3
   },
   "file_extension": ".py",
   "mimetype": "text/x-python",
   "name": "python",
   "nbconvert_exporter": "python",
   "pygments_lexer": "ipython3",
   "version": "3.10.12"
  }
 },
 "nbformat": 4,
 "nbformat_minor": 5
}
